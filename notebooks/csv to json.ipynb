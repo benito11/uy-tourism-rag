{
 "cells": [
  {
   "cell_type": "code",
   "execution_count": 4,
   "id": "38a07370",
   "metadata": {},
   "outputs": [],
   "source": [
    "import pandas as pd"
   ]
  },
  {
   "cell_type": "code",
   "execution_count": 5,
   "id": "a9b55969",
   "metadata": {},
   "outputs": [],
   "source": [
    "df = pd.read_csv('uy-tourism.csv')"
   ]
  },
  {
   "cell_type": "code",
   "execution_count": 6,
   "id": "743a0e2a",
   "metadata": {},
   "outputs": [],
   "source": [
    "json_file = \"uy-tourism.json\"  # Replace with your desired JSON output file path\n",
    "df.to_json(json_file, orient=\"records\", lines=False)"
   ]
  },
  {
   "cell_type": "code",
   "execution_count": null,
   "id": "1e005463",
   "metadata": {},
   "outputs": [],
   "source": []
  }
 ],
 "metadata": {
  "kernelspec": {
   "display_name": "Python 3 (ipykernel)",
   "language": "python",
   "name": "python3"
  },
  "language_info": {
   "codemirror_mode": {
    "name": "ipython",
    "version": 3
   },
   "file_extension": ".py",
   "mimetype": "text/x-python",
   "name": "python",
   "nbconvert_exporter": "python",
   "pygments_lexer": "ipython3",
   "version": "3.8.10"
  }
 },
 "nbformat": 4,
 "nbformat_minor": 5
}
