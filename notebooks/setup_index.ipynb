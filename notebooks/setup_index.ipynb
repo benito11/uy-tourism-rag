{
 "cells": [
  {
   "cell_type": "code",
   "execution_count": 17,
   "metadata": {},
   "outputs": [
    {
     "name": "stdout",
     "output_type": "stream",
     "text": [
      "Collecting sentence-transformers\n",
      "  Downloading sentence_transformers-3.2.1-py3-none-any.whl (255 kB)\n",
      "\u001b[K     |████████████████████████████████| 255 kB 2.6 MB/s eta 0:00:01\n",
      "\u001b[?25hCollecting transformers<5.0.0,>=4.41.0\n",
      "  Downloading transformers-4.46.3-py3-none-any.whl (10.0 MB)\n",
      "\u001b[K     |████████████████████████████████| 10.0 MB 74.0 MB/s eta 0:00:01\n",
      "\u001b[?25hRequirement already satisfied: tqdm in /home/mreynaert/.local/lib/python3.8/site-packages (from sentence-transformers) (4.67.1)\n",
      "Collecting torch>=1.11.0\n",
      "  Downloading torch-2.4.1-cp38-cp38-manylinux1_x86_64.whl (797.1 MB)\n",
      "\u001b[K     |████████████████████████████████| 797.1 MB 21 kB/s s eta 0:00:012   |█▍                              | 34.1 MB 43.8 MB/s eta 0:00:18     |████████████▊                   | 316.1 MB 25.6 MB/s eta 0:00:19     |████████████████████            | 498.6 MB 22.8 MB/s eta 0:00:14     |██████████████████████▊         | 565.0 MB 22.0 MB/s eta 0:00:11\n",
      "\u001b[?25hRequirement already satisfied: scikit-learn in /home/mreynaert/.local/lib/python3.8/site-packages (from sentence-transformers) (1.3.2)\n",
      "Requirement already satisfied: scipy in /home/mreynaert/.local/lib/python3.8/site-packages (from sentence-transformers) (1.10.0)\n",
      "Requirement already satisfied: huggingface-hub>=0.20.0 in /home/mreynaert/.local/lib/python3.8/site-packages (from sentence-transformers) (0.27.1)\n",
      "Requirement already satisfied: Pillow in /home/mreynaert/.local/lib/python3.8/site-packages (from sentence-transformers) (10.4.0)\n",
      "Requirement already satisfied: filelock in /home/mreynaert/.local/lib/python3.8/site-packages (from transformers<5.0.0,>=4.41.0->sentence-transformers) (3.6.0)\n",
      "Requirement already satisfied: numpy>=1.17 in /home/mreynaert/.local/lib/python3.8/site-packages (from transformers<5.0.0,>=4.41.0->sentence-transformers) (1.24.2)\n",
      "Requirement already satisfied: packaging>=20.0 in /home/mreynaert/.local/lib/python3.8/site-packages (from transformers<5.0.0,>=4.41.0->sentence-transformers) (21.3)\n",
      "Requirement already satisfied: pyyaml>=5.1 in /home/mreynaert/.local/lib/python3.8/site-packages (from transformers<5.0.0,>=4.41.0->sentence-transformers) (6.0.2)\n",
      "Requirement already satisfied: regex!=2019.12.17 in /home/mreynaert/.local/lib/python3.8/site-packages (from transformers<5.0.0,>=4.41.0->sentence-transformers) (2022.10.31)\n",
      "Requirement already satisfied: requests in /home/mreynaert/.local/lib/python3.8/site-packages (from transformers<5.0.0,>=4.41.0->sentence-transformers) (2.32.3)\n",
      "Requirement already satisfied: tokenizers<0.21,>=0.20 in /home/mreynaert/.local/lib/python3.8/site-packages (from transformers<5.0.0,>=4.41.0->sentence-transformers) (0.20.3)\n",
      "Collecting safetensors>=0.4.1\n",
      "  Downloading safetensors-0.5.2-cp38-abi3-manylinux_2_17_x86_64.manylinux2014_x86_64.whl (461 kB)\n",
      "\u001b[K     |████████████████████████████████| 461 kB 19.9 MB/s eta 0:00:01\n",
      "\u001b[?25hCollecting typing-extensions>=4.8.0\n",
      "  Using cached typing_extensions-4.12.2-py3-none-any.whl (37 kB)\n",
      "Requirement already satisfied: sympy in /home/mreynaert/.local/lib/python3.8/site-packages (from torch>=1.11.0->sentence-transformers) (1.13.3)\n",
      "Requirement already satisfied: networkx in /home/mreynaert/.local/lib/python3.8/site-packages (from torch>=1.11.0->sentence-transformers) (3.1)\n",
      "Requirement already satisfied: jinja2 in /home/mreynaert/.local/lib/python3.8/site-packages (from torch>=1.11.0->sentence-transformers) (3.1.1)\n",
      "Requirement already satisfied: fsspec in /home/mreynaert/.local/lib/python3.8/site-packages (from torch>=1.11.0->sentence-transformers) (2024.12.0)\n",
      "Collecting nvidia-cuda-nvrtc-cu12==12.1.105; platform_system == \"Linux\" and platform_machine == \"x86_64\"\n",
      "  Downloading nvidia_cuda_nvrtc_cu12-12.1.105-py3-none-manylinux1_x86_64.whl (23.7 MB)\n",
      "\u001b[K     |████████████████████████████████| 23.7 MB 13.1 MB/s eta 0:00:01\n",
      "\u001b[?25hCollecting nvidia-cuda-runtime-cu12==12.1.105; platform_system == \"Linux\" and platform_machine == \"x86_64\"\n",
      "  Downloading nvidia_cuda_runtime_cu12-12.1.105-py3-none-manylinux1_x86_64.whl (823 kB)\n",
      "\u001b[K     |████████████████████████████████| 823 kB 25.4 MB/s eta 0:00:01\n",
      "\u001b[?25hCollecting nvidia-cuda-cupti-cu12==12.1.105; platform_system == \"Linux\" and platform_machine == \"x86_64\"\n",
      "  Downloading nvidia_cuda_cupti_cu12-12.1.105-py3-none-manylinux1_x86_64.whl (14.1 MB)\n",
      "\u001b[K     |████████████████████████████████| 14.1 MB 20.2 MB/s eta 0:00:01\n",
      "\u001b[?25hCollecting nvidia-cudnn-cu12==9.1.0.70; platform_system == \"Linux\" and platform_machine == \"x86_64\"\n",
      "  Downloading nvidia_cudnn_cu12-9.1.0.70-py3-none-manylinux2014_x86_64.whl (664.8 MB)\n",
      "\u001b[K     |████████████████████████████████| 664.8 MB 15 kB/s /s eta 0:00:01    |█████████                       | 188.4 MB 36.9 MB/s eta 0:00:13     |██████████████████████▉         | 474.7 MB 9.4 MB/s eta 0:00:21    |█████████████████████████████▍  | 610.9 MB 4.8 MB/s eta 0:00:12\n",
      "\u001b[?25hCollecting nvidia-cublas-cu12==12.1.3.1; platform_system == \"Linux\" and platform_machine == \"x86_64\"\n",
      "  Downloading nvidia_cublas_cu12-12.1.3.1-py3-none-manylinux1_x86_64.whl (410.6 MB)\n",
      "\u001b[K     |████████████████████████████████| 410.6 MB 3.8 kB/s  eta 0:00:011\n",
      "\u001b[?25hCollecting nvidia-cufft-cu12==11.0.2.54; platform_system == \"Linux\" and platform_machine == \"x86_64\"\n",
      "  Downloading nvidia_cufft_cu12-11.0.2.54-py3-none-manylinux1_x86_64.whl (121.6 MB)\n",
      "\u001b[K     |████████████████████████████████| 121.6 MB 34 kB/s s eta 0:00:01\n",
      "\u001b[?25hCollecting nvidia-curand-cu12==10.3.2.106; platform_system == \"Linux\" and platform_machine == \"x86_64\"\n",
      "  Downloading nvidia_curand_cu12-10.3.2.106-py3-none-manylinux1_x86_64.whl (56.5 MB)\n",
      "\u001b[K     |████████████████████████████████| 56.5 MB 39.5 MB/s eta 0:00:01\n",
      "\u001b[?25hCollecting nvidia-cusolver-cu12==11.4.5.107; platform_system == \"Linux\" and platform_machine == \"x86_64\"\n",
      "  Downloading nvidia_cusolver_cu12-11.4.5.107-py3-none-manylinux1_x86_64.whl (124.2 MB)\n",
      "\u001b[K     |████████████████████████████████| 124.2 MB 16.3 MB/s eta 0:00:01██████████▌                     | 40.8 MB 12.6 MB/s eta 0:00:07\n",
      "\u001b[?25hCollecting nvidia-cusparse-cu12==12.1.0.106; platform_system == \"Linux\" and platform_machine == \"x86_64\"\n",
      "  Downloading nvidia_cusparse_cu12-12.1.0.106-py3-none-manylinux1_x86_64.whl (196.0 MB)\n",
      "\u001b[K     |████████████████████████████████| 196.0 MB 112 kB/s eta 0:00:012\n",
      "\u001b[?25hCollecting nvidia-nccl-cu12==2.20.5; platform_system == \"Linux\" and platform_machine == \"x86_64\"\n",
      "  Downloading nvidia_nccl_cu12-2.20.5-py3-none-manylinux2014_x86_64.whl (176.2 MB)\n",
      "\u001b[K     |████████████████████████████████| 176.2 MB 169 kB/s  eta 0:00:01     |██████████████████▋             | 102.6 MB 44.6 MB/s eta 0:00:02\n",
      "\u001b[?25hCollecting nvidia-nvtx-cu12==12.1.105; platform_system == \"Linux\" and platform_machine == \"x86_64\"\n",
      "  Downloading nvidia_nvtx_cu12-12.1.105-py3-none-manylinux1_x86_64.whl (99 kB)\n",
      "\u001b[K     |████████████████████████████████| 99 kB 15.1 MB/s eta 0:00:01\n",
      "\u001b[?25hCollecting triton==3.0.0; platform_system == \"Linux\" and platform_machine == \"x86_64\" and python_version < \"3.13\"\n",
      "  Downloading triton-3.0.0-1-cp38-cp38-manylinux2014_x86_64.manylinux_2_17_x86_64.whl (209.4 MB)\n",
      "\u001b[K     |████████████████████████████████| 209.4 MB 96 kB/s s eta 0:00:01     |██████████████████████▏         | 145.1 MB 19.6 MB/s eta 0:00:04\n",
      "\u001b[?25hRequirement already satisfied: joblib>=1.1.1 in /home/mreynaert/.local/lib/python3.8/site-packages (from scikit-learn->sentence-transformers) (1.4.2)\n",
      "Requirement already satisfied: threadpoolctl>=2.0.0 in /home/mreynaert/.local/lib/python3.8/site-packages (from scikit-learn->sentence-transformers) (3.0.0)\n",
      "Requirement already satisfied: pyparsing!=3.0.5,>=2.0.2 in /home/mreynaert/.local/lib/python3.8/site-packages (from packaging>=20.0->transformers<5.0.0,>=4.41.0->sentence-transformers) (3.0.6)\n",
      "Requirement already satisfied: charset-normalizer<4,>=2 in /home/mreynaert/.local/lib/python3.8/site-packages (from requests->transformers<5.0.0,>=4.41.0->sentence-transformers) (2.0.12)\n",
      "Requirement already satisfied: idna<4,>=2.5 in /home/mreynaert/.local/lib/python3.8/site-packages (from requests->transformers<5.0.0,>=4.41.0->sentence-transformers) (3.3)\n",
      "Requirement already satisfied: urllib3<3,>=1.21.1 in /home/mreynaert/.local/lib/python3.8/site-packages (from requests->transformers<5.0.0,>=4.41.0->sentence-transformers) (1.26.9)\n"
     ]
    },
    {
     "name": "stdout",
     "output_type": "stream",
     "text": [
      "Requirement already satisfied: certifi>=2017.4.17 in /home/mreynaert/.local/lib/python3.8/site-packages (from requests->transformers<5.0.0,>=4.41.0->sentence-transformers) (2021.10.8)\n",
      "Requirement already satisfied: mpmath<1.4,>=1.1.0 in /home/mreynaert/.local/lib/python3.8/site-packages (from sympy->torch>=1.11.0->sentence-transformers) (1.3.0)\n",
      "Requirement already satisfied: MarkupSafe>=2.0 in /home/mreynaert/.local/lib/python3.8/site-packages (from jinja2->torch>=1.11.0->sentence-transformers) (2.1.1)\n",
      "Collecting nvidia-nvjitlink-cu12\n",
      "  Downloading nvidia_nvjitlink_cu12-12.6.85-py3-none-manylinux2010_x86_64.manylinux_2_12_x86_64.whl (19.7 MB)\n",
      "\u001b[K     |████████████████████████████████| 19.7 MB 40.0 MB/s eta 0:00:01\n",
      "\u001b[31mERROR: prodigy 1.11.7 has requirement fastapi<0.69.0,>=0.65.1, but you'll have fastapi 0.95.2 which is incompatible.\u001b[0m\n",
      "\u001b[31mERROR: prodigy 1.11.7 has requirement pydantic!=1.8,!=1.8.1,<1.9.0,>=1.7.4, but you'll have pydantic 2.10.4 which is incompatible.\u001b[0m\n",
      "\u001b[31mERROR: prodigy 1.11.7 has requirement uvicorn<0.14.0,>=0.13.3, but you'll have uvicorn 0.33.0 which is incompatible.\u001b[0m\n",
      "\u001b[31mERROR: fastapi 0.95.2 has requirement pydantic!=1.7,!=1.7.1,!=1.7.2,!=1.7.3,!=1.8,!=1.8.1,<2.0.0,>=1.6.2, but you'll have pydantic 2.10.4 which is incompatible.\u001b[0m\n",
      "\u001b[31mERROR: torchvision 0.11.2 has requirement torch==1.10.1, but you'll have torch 2.4.1 which is incompatible.\u001b[0m\n",
      "\u001b[31mERROR: llama-parse 0.5.15 has requirement click<9.0.0,>=8.1.7, but you'll have click 8.1.2 which is incompatible.\u001b[0m\n",
      "\u001b[31mERROR: llama-cloud 0.1.8 has requirement certifi<2025.0.0,>=2024.7.4, but you'll have certifi 2021.10.8 which is incompatible.\u001b[0m\n",
      "\u001b[31mERROR: pinta 0.0.1 has requirement click<8.0.0,>=7.1.2, but you'll have click 8.1.2 which is incompatible.\u001b[0m\n",
      "\u001b[31mERROR: pinta 0.0.1 has requirement httpx<0.14.0,>=0.13.3, but you'll have httpx 0.28.1 which is incompatible.\u001b[0m\n",
      "\u001b[31mERROR: pinta 0.0.1 has requirement rich<3.0.0,>=2.0.1, but you'll have rich 13.9.4 which is incompatible.\u001b[0m\n",
      "\u001b[?25hInstalling collected packages: safetensors, transformers, typing-extensions, nvidia-cuda-nvrtc-cu12, nvidia-cuda-runtime-cu12, nvidia-cuda-cupti-cu12, nvidia-cublas-cu12, nvidia-cudnn-cu12, nvidia-cufft-cu12, nvidia-curand-cu12, nvidia-nvjitlink-cu12, nvidia-cusparse-cu12, nvidia-cusolver-cu12, nvidia-nccl-cu12, nvidia-nvtx-cu12, triton, torch, sentence-transformers\n",
      "  Attempting uninstall: typing-extensions\n",
      "    Found existing installation: typing-extensions 4.5.0\n",
      "    Uninstalling typing-extensions-4.5.0:\n",
      "      Successfully uninstalled typing-extensions-4.5.0\n",
      "  Attempting uninstall: torch\n",
      "    Found existing installation: torch 1.10.1\n",
      "    Uninstalling torch-1.10.1:\n",
      "      Successfully uninstalled torch-1.10.1\n",
      "Successfully installed nvidia-cublas-cu12-12.1.3.1 nvidia-cuda-cupti-cu12-12.1.105 nvidia-cuda-nvrtc-cu12-12.1.105 nvidia-cuda-runtime-cu12-12.1.105 nvidia-cudnn-cu12-9.1.0.70 nvidia-cufft-cu12-11.0.2.54 nvidia-curand-cu12-10.3.2.106 nvidia-cusolver-cu12-11.4.5.107 nvidia-cusparse-cu12-12.1.0.106 nvidia-nccl-cu12-2.20.5 nvidia-nvjitlink-cu12-12.6.85 nvidia-nvtx-cu12-12.1.105 safetensors-0.5.2 sentence-transformers-3.2.1 torch-2.4.1 transformers-4.46.3 triton-3.0.0 typing-extensions-4.12.2\n"
     ]
    }
   ],
   "source": [
    "!pip install sentence-transformers"
   ]
  },
  {
   "cell_type": "code",
   "execution_count": 19,
   "metadata": {},
   "outputs": [
    {
     "name": "stdout",
     "output_type": "stream",
     "text": [
      "Starting indexing process...\n",
      "Loaded 8 entries from JSON file\n",
      "Generating embeddings...\n"
     ]
    },
    {
     "data": {
      "application/vnd.jupyter.widget-view+json": {
       "model_id": "08bb3f2347b7481d8386d18a49b4e37a",
       "version_major": 2,
       "version_minor": 0
      },
      "text/plain": [
       "Batches:   0%|          | 0/1 [00:00<?, ?it/s]"
      ]
     },
     "metadata": {},
     "output_type": "display_data"
    },
    {
     "name": "stdout",
     "output_type": "stream",
     "text": [
      "Successfully saved 8 documents and their embeddings at ../backend/data/embeddings/\n",
      "Embedding dimension: (8, 384)\n"
     ]
    }
   ],
   "source": [
    "import json\n",
    "import os\n",
    "import numpy as np\n",
    "from sentence_transformers import SentenceTransformer\n",
    "\n",
    "# Define paths\n",
    "JSON_PATH = \"../backend/data/raw/uy-tourism.json\"\n",
    "STORAGE_PATH = \"../backend/data/embeddings/\"\n",
    "\n",
    "# Create the storage directory if it doesn't exist\n",
    "os.makedirs(STORAGE_PATH, exist_ok=True)\n",
    "\n",
    "def process_and_index(json_path, storage_path):\n",
    "    print(f\"Starting indexing process...\")\n",
    "    \n",
    "    # Load the model\n",
    "    model = SentenceTransformer('all-MiniLM-L6-v2')\n",
    "    \n",
    "    # Load JSON data\n",
    "    with open(json_path, \"r\") as f:\n",
    "        data = json.load(f)\n",
    "    print(f\"Loaded {len(data)} entries from JSON file\")\n",
    "    \n",
    "    # Prepare documents and their metadata\n",
    "    documents = []\n",
    "    metadata = []\n",
    "    \n",
    "    for entry in data:\n",
    "        title = entry.get(\"Title\", \"\").strip()\n",
    "        location = entry.get(\"Location\", \"\").strip()\n",
    "        text = entry.get(\"Text\", \"\").strip()\n",
    "        address = entry.get(\"Address\", \"\").strip()\n",
    "        \n",
    "        # Combine content\n",
    "        full_content = f\"Title: {title}. Location: {location}. Address: {address}\\n\\n{text}\"\n",
    "        \n",
    "        # Store document and its metadata\n",
    "        documents.append(full_content)\n",
    "        metadata.append({\n",
    "            \"title\": title,\n",
    "            \"location\": location,\n",
    "            \"address\": address\n",
    "        })\n",
    "    \n",
    "    # Generate embeddings\n",
    "    print(\"Generating embeddings...\")\n",
    "    embeddings = model.encode(documents, show_progress_bar=True)\n",
    "    \n",
    "    # Save everything\n",
    "    np.save(f\"{storage_path}/embeddings.npy\", embeddings)\n",
    "    with open(f\"{storage_path}/documents.json\", 'w') as f:\n",
    "        json.dump(documents, f)\n",
    "    with open(f\"{storage_path}/metadata.json\", 'w') as f:\n",
    "        json.dump(metadata, f)\n",
    "    \n",
    "    print(f\"Successfully saved {len(documents)} documents and their embeddings at {storage_path}\")\n",
    "    print(f\"Embedding dimension: {embeddings.shape}\")\n",
    "\n",
    "# Run the indexing process\n",
    "process_and_index(JSON_PATH, STORAGE_PATH)"
   ]
  },
  {
   "cell_type": "code",
   "execution_count": null,
   "metadata": {},
   "outputs": [],
   "source": []
  }
 ],
 "metadata": {
  "kernelspec": {
   "display_name": "Python 3 (ipykernel)",
   "language": "python",
   "name": "python3"
  },
  "language_info": {
   "codemirror_mode": {
    "name": "ipython",
    "version": 3
   },
   "file_extension": ".py",
   "mimetype": "text/x-python",
   "name": "python",
   "nbconvert_exporter": "python",
   "pygments_lexer": "ipython3",
   "version": "3.8.10"
  }
 },
 "nbformat": 4,
 "nbformat_minor": 2
}
